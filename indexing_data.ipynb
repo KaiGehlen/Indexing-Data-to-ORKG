{
 "cells": [
  {
   "cell_type": "markdown",
   "metadata": {},
   "source": [
    "# Indexing Data into the Open Research Knowledge Graph\n",
    "\n",
    "This Notebook shows how to index new Ressources into the ORKG from the TIB Hannover. The Papers we will index in this Notebook are retrieved from pubmed "
   ]
  },
  {
   "cell_type": "code",
   "execution_count": 1,
   "metadata": {},
   "outputs": [],
   "source": [
    "import pandas as pd\n",
    "from Bio import Entrez, Medline\n",
    "from orkg import ORKG\n",
    "from orkg.utils import NamespacedClient, query_params, dict_to_url_params\n",
    "from orkg.out import OrkgResponse\n",
    "from orkg.client.resources import ResourcesClient\n",
    "from orkg import client\n",
    "from orkg.client.classes import ClassesClient"
   ]
  },
  {
   "cell_type": "markdown",
   "metadata": {},
   "source": [
    "# Retrieving Papers"
   ]
  },
  {
   "cell_type": "code",
   "execution_count": null,
   "metadata": {},
   "outputs": [],
   "source": [
    "Entrez.api_key = \"\" # if you don´t have an API-Key just use ur email-adress beneath\n",
    "Entrez.email = \"dummy.email@adress.en\""
   ]
  },
  {
   "cell_type": "code",
   "execution_count": 2,
   "metadata": {},
   "outputs": [
    {
     "name": "stdout",
     "output_type": "stream",
     "text": [
      "Enter a query: microbiome obesity\n"
     ]
    }
   ],
   "source": [
    "query = input(\"Enter a query: \") # enter the query you want to retrieve papers to"
   ]
  },
  {
   "cell_type": "code",
   "execution_count": null,
   "metadata": {},
   "outputs": [],
   "source": [
    "pubmed_idlist = []\n",
    "handle = Entrez.esearch(db=\"pubmed\", term = query, retmax = \"10\") # here we retrieve the pubmedID of top 10 results for that query\n",
    "record = Entrez.read(handle)\n",
    "pubmed_idlist.append(record[\"IdList\"])\n",
    "flat_pubmed_idlist = [item for sublist in pubmed_idlist for item in sublist]"
   ]
  },
  {
   "cell_type": "code",
   "execution_count": 4,
   "metadata": {},
   "outputs": [],
   "source": [
    "handle = Entrez.efetch(db = \"pubmed\", id = flat_pubmed_idlist, rettype = \"medline\", retmode = \"json\") # retrieving the content of the paper\n",
    "records = Medline.parse(handle)\n",
    "\n",
    "data_list =[]\n",
    "\n",
    "for record in records:\n",
    "    data_list.append(record)"
   ]
  },
  {
   "cell_type": "code",
   "execution_count": 5,
   "metadata": {},
   "outputs": [],
   "source": [
    "df = pd.DataFrame(data_list)"
   ]
  },
  {
   "cell_type": "code",
   "execution_count": 7,
   "metadata": {},
   "outputs": [],
   "source": [
    "df = df[[\"TI\", \"AB\", \"AID\"]]"
   ]
  },
  {
   "cell_type": "markdown",
   "metadata": {},
   "source": [
    "# Adding triples manually\n",
    "The ORKG works with triples based on the Human Disease Ontology. SO we have to add them manually since there are no pythonmoduls or NLP software to do so."
   ]
  },
  {
   "cell_type": "code",
   "execution_count": null,
   "metadata": {},
   "outputs": [],
   "source": [
    "df[\"keywords\"] = \"\""
   ]
  },
  {
   "cell_type": "code",
   "execution_count": null,
   "metadata": {},
   "outputs": [],
   "source": [
    "df[\"keywords\"][0] = [\"microbial colonization\", \"influences\", \"liver\"] \n",
    "df[\"keywords\"][1] = [\"commensal microbiota\", \"promoting\", \"Inflammatory bowel disease\"]\n",
    "df[\"keywords\"][2] = [\"high fat-diet\", \"causes\", \"weight gain\"]\n",
    "df[\"keywords\"][3] = [\"gut microbiota\", \"influences\", \"diabetes\"]\n",
    "df[\"keywords\"][4] = [\"dietry calcium\", \"decreases\", \"obesity\"]\n",
    "df[\"keywords\"][5] = [\"low carb diet\", \"reduces\", \"Enterobacteriaceae\"]\n",
    "df[\"keywords\"][6] = [\"Trimethylamin-N-Oxid\", \"cause\", \"arrhythmia\"]\n",
    "df[\"keywords\"][7] = [\"probiotic bound ACE-2 delivery\", \"harms\", \"SARS-CoV-2\"]\n",
    "df[\"keywords\"][8] = [\"gut virome\", \"infuences\", \"obesity\"]\n",
    "df[\"keywords\"][9] = [\"early pubertal\", \"causes\", \"obesity\"]"
   ]
  },
  {
   "cell_type": "code",
   "execution_count": 11,
   "metadata": {},
   "outputs": [],
   "source": [
    "df.to_csv(\"papers_about_obesity.csv\")"
   ]
  },
  {
   "cell_type": "markdown",
   "metadata": {},
   "source": [
    "# Adding the file as a ressource to the ORKG"
   ]
  },
  {
   "cell_type": "code",
   "execution_count": 12,
   "metadata": {},
   "outputs": [],
   "source": [
    "orkg = ORKG(host=\"https://www.orkg.org/orkg\", creds=('orkg-email-address', 'orkg-password'))"
   ]
  },
  {
   "cell_type": "code",
   "execution_count": 13,
   "metadata": {},
   "outputs": [],
   "source": [
    "response = orkg.resources.get()"
   ]
  },
  {
   "cell_type": "code",
   "execution_count": 14,
   "metadata": {},
   "outputs": [
    {
     "data": {
      "text/plain": [
       "'https://www.orkg.org/orkg/api/resources/'"
      ]
     },
     "execution_count": 14,
     "metadata": {},
     "output_type": "execute_result"
    }
   ],
   "source": [
    "response.url"
   ]
  },
  {
   "cell_type": "code",
   "execution_count": 15,
   "metadata": {},
   "outputs": [
    {
     "data": {
      "text/plain": [
       "True"
      ]
     },
     "execution_count": 15,
     "metadata": {},
     "output_type": "execute_result"
    }
   ],
   "source": [
    "response.succeeded # now we are connected to the ORKG Backend"
   ]
  },
  {
   "cell_type": "code",
   "execution_count": 16,
   "metadata": {},
   "outputs": [
    {
     "data": {
      "text/plain": [
       "200"
      ]
     },
     "execution_count": 16,
     "metadata": {},
     "output_type": "execute_result"
    }
   ],
   "source": [
    "response.status_code"
   ]
  },
  {
   "cell_type": "code",
   "execution_count": null,
   "metadata": {},
   "outputs": [],
   "source": [
    "# with this code we finally push the dataset into the ORKG\n",
    "datasetID = orkg.resources.save_dataset(file=\"microbiome_obesity.csv\", label=\"Papers about obesity\", dimensions=[\"AID\"])\n",
    "datasetID"
   ]
  }
 ],
 "metadata": {
  "kernelspec": {
   "display_name": "Python 3",
   "language": "python",
   "name": "python3"
  },
  "language_info": {
   "codemirror_mode": {
    "name": "ipython",
    "version": 3
   },
   "file_extension": ".py",
   "mimetype": "text/x-python",
   "name": "python",
   "nbconvert_exporter": "python",
   "pygments_lexer": "ipython3",
   "version": "3.7.4"
  }
 },
 "nbformat": 4,
 "nbformat_minor": 4
}
